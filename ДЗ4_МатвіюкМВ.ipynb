{
  "nbformat": 4,
  "nbformat_minor": 0,
  "metadata": {
    "colab": {
      "provenance": []
    },
    "kernelspec": {
      "name": "python3",
      "display_name": "Python 3"
    },
    "language_info": {
      "name": "python"
    }
  },
  "cells": [
    {
      "cell_type": "markdown",
      "source": [],
      "metadata": {
        "id": "5LQ-Ih2WFgpE"
      }
    },
    {
      "cell_type": "code",
      "execution_count": 8,
      "metadata": {
        "id": "-vTt4oP9FYGu"
      },
      "outputs": [],
      "source": [
        "import heapq\n",
        "import random\n",
        "import timeit"
      ]
    },
    {
      "cell_type": "markdown",
      "source": [
        "## **1. Сортування злиттям**"
      ],
      "metadata": {
        "id": "6yUwv8TGJF7-"
      }
    },
    {
      "cell_type": "code",
      "source": [
        "def insertion_sort(arr):\n",
        "    for i in range(1, len(arr)):\n",
        "        key = arr[i]\n",
        "        j = i - 1\n",
        "        while j >= 0 and key < arr[j]:\n",
        "            arr[j + 1] = arr[j]\n",
        "            j -= 1\n",
        "        arr[j + 1] = key\n"
      ],
      "metadata": {
        "id": "PcIxkshxJTa5"
      },
      "execution_count": 9,
      "outputs": []
    },
    {
      "cell_type": "markdown",
      "source": [
        "# **2. Сортування вставками**"
      ],
      "metadata": {
        "id": "MyDIrCJOJ3FB"
      }
    },
    {
      "cell_type": "code",
      "source": [
        "def merge_sort(arr):\n",
        "    if len(arr) > 1:\n",
        "        mid = len(arr) // 2\n",
        "        L = arr[:mid]\n",
        "        R = arr[mid:]\n",
        "\n",
        "        merge_sort(L)\n",
        "        merge_sort(R)\n",
        "\n",
        "        i = j = k = 0\n",
        "\n",
        "        while i < len(L) and j < len(R):\n",
        "            if L[i] < R[j]:\n",
        "                arr[k] = L[i]\n",
        "                i += 1\n",
        "            else:\n",
        "                arr[k] = R[j]\n",
        "                j += 1\n",
        "            k += 1\n",
        "\n",
        "        while i < len(L):\n",
        "            arr[k] = L[i]\n",
        "            i += 1\n",
        "            k += 1\n",
        "\n",
        "        while j < len(R):\n",
        "            arr[k] = R[j]\n",
        "            j += 1\n",
        "            k += 1"
      ],
      "metadata": {
        "id": "rMMmxMlzJ61J"
      },
      "execution_count": 10,
      "outputs": []
    },
    {
      "cell_type": "markdown",
      "source": [
        "# **3. Сортування Timsort**"
      ],
      "metadata": {
        "id": "8onUcol5KD_t"
      }
    },
    {
      "cell_type": "code",
      "source": [
        "import random\n",
        "import timeit\n",
        "\n",
        "# Функція для генерації випадкових масивів\n",
        "def generate_array(size):\n",
        "    return [random.randint(0, 100000) for _ in range(size)]\n",
        "\n",
        "def benchmark_sorting_algorithms():\n",
        "    sizes = [100, 1000, 10000]\n",
        "    results = {'Insertion Sort': [], 'Merge Sort': [], 'Timsort': []}\n",
        "    for size in sizes:\n",
        "        arr = generate_array(size)\n",
        "        # Отримуємо час виконання для insertion sort\n",
        "        insertion_sort_time = timeit.timeit(lambda: insertion_sort(arr.copy()), number=1)\n",
        "        results['Insertion Sort'].append(insertion_sort_time)\n",
        "\n",
        "        # Отримуємо час виконання для merge sort\n",
        "        merge_sort_time = timeit.timeit(lambda: merge_sort(arr.copy()), number=1)\n",
        "        results['Merge Sort'].append(merge_sort_time)\n",
        "\n",
        "        # Отримуємо час виконання для вбудованого sort (Timsort)\n",
        "        timsort_time = timeit.timeit(lambda: sorted(arr.copy()), number=1)\n",
        "        results['Timsort'].append(timsort_time)\n",
        "\n",
        "    return results\n",
        ""
      ],
      "metadata": {
        "id": "5BRiS68ZKOR_"
      },
      "execution_count": 12,
      "outputs": []
    },
    {
      "cell_type": "markdown",
      "source": [
        "## **Порівняльний аналіз алгоритмів сортування: злиттям, вставками та Timsort**"
      ],
      "metadata": {
        "id": "3K4elBaVLzZg"
      }
    },
    {
      "cell_type": "markdown",
      "source": [],
      "metadata": {
        "id": "ZgBl63r4L6cj"
      }
    },
    {
      "cell_type": "code",
      "source": [
        "# Виведемо результати в консоль\n",
        "results = benchmark_sorting_algorithms()\n",
        "\n",
        "# Форматування виводу для кращого читання\n",
        "print(\"Час виконання алгоритмів сортування (секунди):\")\n",
        "print(\"Розміри масивів:\", [100, 1000, 10000])\n",
        "for algorithm, times in results.items():\n",
        "    # Округлити значення часу до 10 десяткових знаків\n",
        "    rounded_times = [round(time, 10) for time in times]\n",
        "    print(f\"{algorithm}: {rounded_times}\")\n"
      ],
      "metadata": {
        "colab": {
          "base_uri": "https://localhost:8080/"
        },
        "id": "1J6cMECY3Juo",
        "outputId": "cf81b6e8-5c69-45a3-ce83-481609f1e3c9"
      },
      "execution_count": 13,
      "outputs": [
        {
          "output_type": "stream",
          "name": "stdout",
          "text": [
            "Час виконання алгоритмів сортування (секунди):\n",
            "Розміри масивів: [100, 1000, 10000]\n",
            "Insertion Sort: [0.000745158, 0.048383056, 5.907706857]\n",
            "Merge Sort: [0.00039157, 0.00333609, 0.043682024]\n",
            "Timsort: [3.1305e-05, 0.00013335, 0.00176822]\n"
          ]
        }
      ]
    },
    {
      "cell_type": "code",
      "source": [],
      "metadata": {
        "id": "X1uXEXxR3_17"
      },
      "execution_count": null,
      "outputs": []
    },
    {
      "cell_type": "markdown",
      "source": [
        "З отриманих результатів можна зробити такі висновки:\n",
        "\n",
        "Timsort значно швидший за Merge Sort та Insertion Sort на всіх тестових наборах даних. Це пов'язано з тим, що Timsort використовує гібридний підхід, який поєднує в собі Merge Sort та Insertion Sort, що робить його ефективним для різних типів даних.\n",
        "\n",
        "Merge Sort` також показує гарні результати, але його час виконання зростає швидше з збільшенням розміру масиву.\n",
        "\n",
        "Insertion Sort найповільніший з трьох алгоритмів, але він може бути ефективним для невеликих масивів, де інші алгоритми мають більшу складність.\n",
        "\n",
        "2. Емпірична перевірка теоретичних оцінок складності:\n",
        "\n",
        "Теоретична оцінка складності Merge Sort та Insertion Sort становить O(n log n). Це означає, що час виконання цих алгоритмів пропорційний логарифму від розміру масиву. З іншого боку, Timsort має складність O(n log n) у кращому випадку та O(n^2) у найгіршому випадку. Це пов'язано з тим, що Timsort використовує Insertion Sort для малих підмасивів.\n",
        "\n",
        "3. Переваги Timsort:\n",
        "\n",
        "Швидкість: Timsort значно швидший за Merge Sort та Insertion Sort на більшості тестових наборів даних.\n",
        "Ефективність: Timsort використовує гібридний підхід, який робить його ефективним для різних типів даних.\n",
        "Простота використання: Timsort є вбудованим алгоритмом в Python, що робить його простим у використанні для розробників.\n",
        "\n",
        "4. Висновок:\n",
        "\n",
        "Timsort є кращим вибором для сортування даних в Python завдяки його швидкості, ефективності та простоті використання. Він поєднує в собі переваги Merge Sort та Insertion Sort, роблячи його універсальним"
      ],
      "metadata": {
        "id": "xKh0FYE-3qeV"
      }
    },
    {
      "cell_type": "markdown",
      "source": [
        "# **Необов'язкове завдання**"
      ],
      "metadata": {
        "id": "-DeOOp6h30rB"
      }
    },
    {
      "cell_type": "code",
      "source": [
        "import heapq\n",
        "\n",
        "\n",
        "def merge_k_lists(lists):\n",
        "    \"\"\"\n",
        "    Об'єднує k відсортованих списків цілих чисел в один відсортований список.\n",
        "\n",
        "    Args:\n",
        "        lists (list of lists): Список відсортованих списків цілих чисел.\n",
        "\n",
        "    Returns:\n",
        "        list: Відсортований список з об'єднаних елементів.\n",
        "    \"\"\"\n",
        "\n",
        "    if not lists:\n",
        "        return []\n",
        "\n",
        "    # Ініціалізуємо пріоритетну чергу\n",
        "    min_heap = []\n",
        "    for i, lst in enumerate(lists):\n",
        "        if lst:  # Додаємо лише непусті списки\n",
        "            heapq.heappush(min_heap, (lst[0], i, 0))  # (значення, індекс списку, індекс елемента)\n",
        "\n",
        "    merged_list = []\n",
        "    # Поки в черзі є елементи\n",
        "    while min_heap:\n",
        "        value, list_idx, element_idx = heapq.heappop(min_heap)\n",
        "        merged_list.append(value)\n",
        "\n",
        "        # Додаємо наступний елемент з того ж списку (якщо є)\n",
        "        if element_idx + 1 < len(lists[list_idx]):\n",
        "            next_element = (lists[list_idx][element_idx + 1], list_idx, element_idx + 1)\n",
        "            heapq.heappush(min_heap, next_element)\n",
        "\n",
        "    return merged_list\n",
        "\n",
        "\n",
        "# Тестування функції\n",
        "lists = [[1, 4, 5], [1, 3, 4], [2, 6]]\n",
        "merged_list = merge_k_lists(lists)\n",
        "print(\"Відсортований список:\", merged_list)\n"
      ],
      "metadata": {
        "colab": {
          "base_uri": "https://localhost:8080/"
        },
        "id": "huEzKvv64CHU",
        "outputId": "dcbbfe19-49be-4a16-fc0b-2cdf314d092c"
      },
      "execution_count": 14,
      "outputs": [
        {
          "output_type": "stream",
          "name": "stdout",
          "text": [
            "Відсортований список: [1, 1, 2, 3, 4, 4, 5, 6]\n"
          ]
        }
      ]
    }
  ]
}